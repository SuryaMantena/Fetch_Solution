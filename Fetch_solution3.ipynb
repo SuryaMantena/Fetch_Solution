{
 "cells": [
  {
   "cell_type": "code",
   "execution_count": 32,
   "id": "5ded260f",
   "metadata": {},
   "outputs": [],
   "source": [
    "import numpy as np \n",
    "import pandas as pd \n",
    "import spacy\n",
    "import string\n",
    "import gensim\n",
    "import operator\n",
    "import re\n"
   ]
  },
  {
   "cell_type": "code",
   "execution_count": 33,
   "id": "b0cea6a2",
   "metadata": {},
   "outputs": [
    {
     "data": {
      "text/html": [
       "<div>\n",
       "<style scoped>\n",
       "    .dataframe tbody tr th:only-of-type {\n",
       "        vertical-align: middle;\n",
       "    }\n",
       "\n",
       "    .dataframe tbody tr th {\n",
       "        vertical-align: top;\n",
       "    }\n",
       "\n",
       "    .dataframe thead th {\n",
       "        text-align: right;\n",
       "    }\n",
       "</style>\n",
       "<table border=\"1\" class=\"dataframe\">\n",
       "  <thead>\n",
       "    <tr style=\"text-align: right;\">\n",
       "      <th></th>\n",
       "      <th>OFFER</th>\n",
       "      <th>RETAILER</th>\n",
       "      <th>BRAND</th>\n",
       "      <th>BRAND_BELONGS_TO_CATEGORY</th>\n",
       "      <th>IS_CHILD_CATEGORY_TO</th>\n",
       "    </tr>\n",
       "  </thead>\n",
       "  <tbody>\n",
       "    <tr>\n",
       "      <th>0</th>\n",
       "      <td>Spend $50 on a Full-Priced new Club Membership</td>\n",
       "      <td>SAMS CLUB</td>\n",
       "      <td>SAMS CLUB</td>\n",
       "      <td>NaN</td>\n",
       "      <td>NaN</td>\n",
       "    </tr>\n",
       "    <tr>\n",
       "      <th>1</th>\n",
       "      <td>Beyond Meat Plant-Based products, spend $25</td>\n",
       "      <td>NaN</td>\n",
       "      <td>BEYOND MEAT</td>\n",
       "      <td>NaN</td>\n",
       "      <td>NaN</td>\n",
       "    </tr>\n",
       "    <tr>\n",
       "      <th>2</th>\n",
       "      <td>Good Humor Viennetta Frozen Vanilla Cake</td>\n",
       "      <td>NaN</td>\n",
       "      <td>GOOD HUMOR</td>\n",
       "      <td>NaN</td>\n",
       "      <td>NaN</td>\n",
       "    </tr>\n",
       "    <tr>\n",
       "      <th>3</th>\n",
       "      <td>Butterball, select varieties, spend $10 at Dil...</td>\n",
       "      <td>DILLONS FOOD STORE</td>\n",
       "      <td>BUTTERBALL</td>\n",
       "      <td>NaN</td>\n",
       "      <td>NaN</td>\n",
       "    </tr>\n",
       "    <tr>\n",
       "      <th>4</th>\n",
       "      <td>GATORADE Fast Twitch, 12-ounce 12 pack, at Ama...</td>\n",
       "      <td>AMAZON</td>\n",
       "      <td>GATORADE</td>\n",
       "      <td>Medicines &amp; Treatments</td>\n",
       "      <td>Health &amp; Wellness</td>\n",
       "    </tr>\n",
       "  </tbody>\n",
       "</table>\n",
       "</div>"
      ],
      "text/plain": [
       "                                               OFFER            RETAILER  \\\n",
       "0     Spend $50 on a Full-Priced new Club Membership           SAMS CLUB   \n",
       "1        Beyond Meat Plant-Based products, spend $25                 NaN   \n",
       "2           Good Humor Viennetta Frozen Vanilla Cake                 NaN   \n",
       "3  Butterball, select varieties, spend $10 at Dil...  DILLONS FOOD STORE   \n",
       "4  GATORADE Fast Twitch, 12-ounce 12 pack, at Ama...              AMAZON   \n",
       "\n",
       "         BRAND BRAND_BELONGS_TO_CATEGORY IS_CHILD_CATEGORY_TO  \n",
       "0    SAMS CLUB                       NaN                  NaN  \n",
       "1  BEYOND MEAT                       NaN                  NaN  \n",
       "2   GOOD HUMOR                       NaN                  NaN  \n",
       "3   BUTTERBALL                       NaN                  NaN  \n",
       "4     GATORADE    Medicines & Treatments    Health & Wellness  "
      ]
     },
     "execution_count": 33,
     "metadata": {},
     "output_type": "execute_result"
    }
   ],
   "source": [
    "# Load data from a CSV file\n",
    "df = pd.read_csv('FINAL.csv')\n",
    "df.head(5)\n"
   ]
  },
  {
   "cell_type": "code",
   "execution_count": 34,
   "id": "1d92aa18",
   "metadata": {},
   "outputs": [
    {
     "data": {
      "text/plain": [
       "(414, 5)"
      ]
     },
     "execution_count": 34,
     "metadata": {},
     "output_type": "execute_result"
    }
   ],
   "source": [
    "df.shape"
   ]
  },
  {
   "cell_type": "code",
   "execution_count": 35,
   "id": "548f2e5e",
   "metadata": {},
   "outputs": [
    {
     "name": "stdout",
     "output_type": "stream",
     "text": [
      "0      Spend $50 on a Full-Priced new Club Membership...\n",
      "1      Beyond Meat Plant-Based products, spend $25 BE...\n",
      "2      Good Humor Viennetta Frozen Vanilla Cake GOOD ...\n",
      "3      Butterball, select varieties, spend $10 at Dil...\n",
      "4      GATORADE Fast Twitch, 12-ounce 12 pack, at Ama...\n",
      "                             ...                        \n",
      "409                             Spend $10 at KFC KFC KFC\n",
      "410               Sargento Product SARGENTO Cheese Dairy\n",
      "411              Thomas' Bagel Thins THOMAS Bread Pantry\n",
      "412          Spend $270 at Pavilions PAVILIONS PAVILIONS\n",
      "413    Back to the Roots Soils, select varieties, at ...\n",
      "Name: OFFER, Length: 414, dtype: object\n"
     ]
    }
   ],
   "source": [
    "df['OFFER'] = df.apply(lambda row: ' '.join(row.dropna().astype(str)), axis=1)\n",
    "\n",
    "# Display the DataFrame with the new 'OFFER' column\n",
    "print(df['OFFER'])"
   ]
  },
  {
   "cell_type": "code",
   "execution_count": 36,
   "id": "df5fe920",
   "metadata": {},
   "outputs": [],
   "source": [
    "output_file = 'offfer_retailer_nonascii.csv'\n",
    "df.to_csv(output_file, index=False)"
   ]
  },
  {
   "cell_type": "code",
   "execution_count": 5,
   "id": "eddca4c5",
   "metadata": {},
   "outputs": [
    {
     "name": "stdout",
     "output_type": "stream",
     "text": [
      "                                                 OFFER            RETAILER  \\\n",
      "0    Spend $50 on a Full-Priced new Club Membership...           SAMS CLUB   \n",
      "1    Beyond Meat Plant-Based products, spend $25 BE...                 NaN   \n",
      "2    Good Humor Viennetta Frozen Vanilla Cake GOOD ...                 NaN   \n",
      "3    Butterball, select varieties, spend $10 at Dil...  DILLONS FOOD STORE   \n",
      "4    GATORADE Fast Twitch, 12-ounce 12 pack, at Ama...              AMAZON   \n",
      "..                                                 ...                 ...   \n",
      "409                           Spend $10 at KFC KFC KFC                 KFC   \n",
      "410             Sargento Product SARGENTO Cheese Dairy                 NaN   \n",
      "411            Thomas' Bagel Thins THOMAS Bread Pantry                 NaN   \n",
      "412        Spend $270 at Pavilions PAVILIONS PAVILIONS           PAVILIONS   \n",
      "413  Back to the Roots Soils, select varieties, at ...             WALMART   \n",
      "\n",
      "                 BRAND BRAND_BELONGS_TO_CATEGORY IS_CHILD_CATEGORY_TO  \n",
      "0            SAMS CLUB                       NaN                  NaN  \n",
      "1          BEYOND MEAT                       NaN                  NaN  \n",
      "2           GOOD HUMOR                       NaN                  NaN  \n",
      "3           BUTTERBALL                       NaN                  NaN  \n",
      "4             GATORADE    Medicines & Treatments    Health & Wellness  \n",
      "..                 ...                       ...                  ...  \n",
      "409                KFC                       NaN                  NaN  \n",
      "410           SARGENTO                    Cheese                Dairy  \n",
      "411             THOMAS                     Bread               Pantry  \n",
      "412          PAVILIONS                       NaN                  NaN  \n",
      "413  BACK TO THE ROOTS                       NaN                  NaN  \n",
      "\n",
      "[413 rows x 5 columns]\n"
     ]
    }
   ],
   "source": [
    "df = df.drop_duplicates()\n",
    "print(df)"
   ]
  },
  {
   "cell_type": "code",
   "execution_count": 6,
   "id": "a98890dc",
   "metadata": {},
   "outputs": [],
   "source": [
    "from spacy.lang.en.stop_words import STOP_WORDS\n",
    "\n",
    "spacy_nlp = spacy.load('en_core_web_sm')\n",
    "\n",
    "#create list of punctuations and stopwords\n",
    "punctuations = string.punctuation\n",
    "stop_words = spacy.lang.en.stop_words.STOP_WORDS\n",
    "\n",
    "#function for data cleaning and processing\n",
    "#This can be further enhanced by adding / removing reg-exps as desired.\n",
    "\n",
    "\n",
    "\n",
    "\n",
    "\n",
    "def spacy_tokenizer(sentence):\n",
    " \n",
    "    #remove distracting single quotes\n",
    "    sentence = re.sub('\\'','',sentence)\n",
    "\n",
    "    #remove digits adnd words containing digits\n",
    "    sentence = re.sub('\\w*\\d\\w*','',sentence)\n",
    "\n",
    "    #replace extra spaces with single space\n",
    "    sentence = re.sub(' +',' ',sentence)\n",
    "\n",
    "    \n",
    "    #remove non-breaking new line characters\n",
    "    sentence = re.sub(r'\\n',' ',sentence)\n",
    "    \n",
    "    #remove punctunations\n",
    "    sentence = re.sub(r'[^\\w\\s]',' ',sentence)\n",
    "    \n",
    "    #creating token object\n",
    "    tokens = spacy_nlp(sentence)\n",
    "    \n",
    "    #lower, strip and lemmatize\n",
    "    tokens = [word.lemma_.lower().strip() if word.lemma_ != \"-PRON-\" else word.lower_ for word in tokens]\n",
    "    \n",
    "    \n",
    "    #return tokens\n",
    "    return tokens"
   ]
  },
  {
   "cell_type": "code",
   "execution_count": 7,
   "id": "2f55ec2f",
   "metadata": {},
   "outputs": [
    {
     "name": "stdout",
     "output_type": "stream",
     "text": [
      "Cleaning and Tokenizing...\n"
     ]
    },
    {
     "data": {
      "text/html": [
       "<div>\n",
       "<style scoped>\n",
       "    .dataframe tbody tr th:only-of-type {\n",
       "        vertical-align: middle;\n",
       "    }\n",
       "\n",
       "    .dataframe tbody tr th {\n",
       "        vertical-align: top;\n",
       "    }\n",
       "\n",
       "    .dataframe thead th {\n",
       "        text-align: right;\n",
       "    }\n",
       "</style>\n",
       "<table border=\"1\" class=\"dataframe\">\n",
       "  <thead>\n",
       "    <tr style=\"text-align: right;\">\n",
       "      <th></th>\n",
       "      <th>OFFER</th>\n",
       "      <th>RETAILER</th>\n",
       "      <th>BRAND</th>\n",
       "      <th>BRAND_BELONGS_TO_CATEGORY</th>\n",
       "      <th>IS_CHILD_CATEGORY_TO</th>\n",
       "      <th>OFFER_tokenized</th>\n",
       "    </tr>\n",
       "  </thead>\n",
       "  <tbody>\n",
       "    <tr>\n",
       "      <th>0</th>\n",
       "      <td>Spend $50 on a Full-Priced new Club Membership...</td>\n",
       "      <td>SAMS CLUB</td>\n",
       "      <td>SAMS CLUB</td>\n",
       "      <td>NaN</td>\n",
       "      <td>NaN</td>\n",
       "      <td>[spend, , on, a, full, price, new, club, membe...</td>\n",
       "    </tr>\n",
       "    <tr>\n",
       "      <th>1</th>\n",
       "      <td>Beyond Meat Plant-Based products, spend $25 BE...</td>\n",
       "      <td>NaN</td>\n",
       "      <td>BEYOND MEAT</td>\n",
       "      <td>NaN</td>\n",
       "      <td>NaN</td>\n",
       "      <td>[beyond, meat, plant, based, product, , spend,...</td>\n",
       "    </tr>\n",
       "    <tr>\n",
       "      <th>2</th>\n",
       "      <td>Good Humor Viennetta Frozen Vanilla Cake GOOD ...</td>\n",
       "      <td>NaN</td>\n",
       "      <td>GOOD HUMOR</td>\n",
       "      <td>NaN</td>\n",
       "      <td>NaN</td>\n",
       "      <td>[good, humor, viennetta, frozen, vanilla, cake...</td>\n",
       "    </tr>\n",
       "    <tr>\n",
       "      <th>3</th>\n",
       "      <td>Butterball, select varieties, spend $10 at Dil...</td>\n",
       "      <td>DILLONS FOOD STORE</td>\n",
       "      <td>BUTTERBALL</td>\n",
       "      <td>NaN</td>\n",
       "      <td>NaN</td>\n",
       "      <td>[butterball, , select, variety, , spend, , at,...</td>\n",
       "    </tr>\n",
       "    <tr>\n",
       "      <th>4</th>\n",
       "      <td>GATORADE Fast Twitch, 12-ounce 12 pack, at Ama...</td>\n",
       "      <td>AMAZON</td>\n",
       "      <td>GATORADE</td>\n",
       "      <td>Medicines &amp; Treatments</td>\n",
       "      <td>Health &amp; Wellness</td>\n",
       "      <td>[gatorade, fast, twitch, , ounce, pack, , at, ...</td>\n",
       "    </tr>\n",
       "  </tbody>\n",
       "</table>\n",
       "</div>"
      ],
      "text/plain": [
       "                                               OFFER            RETAILER  \\\n",
       "0  Spend $50 on a Full-Priced new Club Membership...           SAMS CLUB   \n",
       "1  Beyond Meat Plant-Based products, spend $25 BE...                 NaN   \n",
       "2  Good Humor Viennetta Frozen Vanilla Cake GOOD ...                 NaN   \n",
       "3  Butterball, select varieties, spend $10 at Dil...  DILLONS FOOD STORE   \n",
       "4  GATORADE Fast Twitch, 12-ounce 12 pack, at Ama...              AMAZON   \n",
       "\n",
       "         BRAND BRAND_BELONGS_TO_CATEGORY IS_CHILD_CATEGORY_TO  \\\n",
       "0    SAMS CLUB                       NaN                  NaN   \n",
       "1  BEYOND MEAT                       NaN                  NaN   \n",
       "2   GOOD HUMOR                       NaN                  NaN   \n",
       "3   BUTTERBALL                       NaN                  NaN   \n",
       "4     GATORADE    Medicines & Treatments    Health & Wellness   \n",
       "\n",
       "                                     OFFER_tokenized  \n",
       "0  [spend, , on, a, full, price, new, club, membe...  \n",
       "1  [beyond, meat, plant, based, product, , spend,...  \n",
       "2  [good, humor, viennetta, frozen, vanilla, cake...  \n",
       "3  [butterball, , select, variety, , spend, , at,...  \n",
       "4  [gatorade, fast, twitch, , ounce, pack, , at, ...  "
      ]
     },
     "execution_count": 7,
     "metadata": {},
     "output_type": "execute_result"
    }
   ],
   "source": [
    "\n",
    "\n",
    "print ('Cleaning and Tokenizing...')\n",
    "df['OFFER_tokenized'] = df['OFFER'].map(lambda x: spacy_tokenizer(x))\n",
    "\n",
    "df.head()"
   ]
  },
  {
   "cell_type": "code",
   "execution_count": 8,
   "id": "48538515",
   "metadata": {},
   "outputs": [
    {
     "data": {
      "text/plain": [
       "0    [spend, , on, a, full, price, new, club, membe...\n",
       "1    [beyond, meat, plant, based, product, , spend,...\n",
       "2    [good, humor, viennetta, frozen, vanilla, cake...\n",
       "3    [butterball, , select, variety, , spend, , at,...\n",
       "4    [gatorade, fast, twitch, , ounce, pack, , at, ...\n",
       "Name: OFFER_tokenized, dtype: object"
      ]
     },
     "execution_count": 8,
     "metadata": {},
     "output_type": "execute_result"
    }
   ],
   "source": [
    "OFFER_df= df['OFFER_tokenized']\n",
    "OFFER_df.head()"
   ]
  },
  {
   "cell_type": "code",
   "execution_count": 9,
   "id": "9d1fd17c",
   "metadata": {},
   "outputs": [
    {
     "name": "stdout",
     "output_type": "stream",
     "text": [
      "CPU times: user 1.73 ms, sys: 8 µs, total: 1.74 ms\n",
      "Wall time: 1.74 ms\n"
     ]
    }
   ],
   "source": [
    "from gensim import corpora\n",
    "\n",
    "#creating term dictionary\n",
    "%time dictionary = corpora.Dictionary(OFFER_df)\n",
    "\n",
    "#filter out terms which occurs in less than 4 documents and more than 20% of the documents.\n",
    "#NOTE: Since we have smaller dataset, we will keep this commented for now.\n",
    "\n",
    "#dictionary.filter_extremes(no_below=4, no_above=0.2)\n",
    "\n",
    "#list of few which which can be further removed\n",
    "stoplist = set('hello and if this can would should could tell ask stop come go')\n",
    "stop_ids = [dictionary.token2id[stopword] for stopword in stoplist if stopword in dictionary.token2id]\n",
    "dictionary.filter_tokens(stop_ids)\n"
   ]
  },
  {
   "cell_type": "code",
   "execution_count": 10,
   "id": "acfb59bb",
   "metadata": {},
   "outputs": [
    {
     "name": "stdout",
     "output_type": "stream",
     "text": [
      "[[['', 0], ['club', 1], ['full', 2], ['membership', 3], ['new', 4], ['on', 5], ['price', 6], ['sams', 7], ['spend', 8], ['based', 9], ['beyond', 10], ['meat', 11], ['plant', 12], ['product', 13], ['cake', 14], ['frozen', 15], ['good', 16], ['humor', 17], ['vanilla', 18], ['viennetta', 19], ['at', 20], ['butterball', 21], ['dillon', 22], ['dillons', 23], ['food', 24], ['select', 25], ['store', 26], ['variety', 27], ['amazon', 28], ['fast', 29], ['gatorade', 30], ['health', 31], ['medicines', 32], ['ounce', 33], ['pack', 34], ['storefront', 35], ['treatments', 36], ['twitch', 37], ['wellness', 38], ['drinks', 39], ['enhanced', 40], ['sports', 41], ['water', 42], ['brownie', 43], ['cookies', 44], ['emmys', 45], ['or', 46], ['organics', 47], ['pop', 48], ['snaps', 49], ['up', 50]]]\n"
     ]
    }
   ],
   "source": [
    "#print top 50 items from the dictionary with their unique token-id\n",
    "dict_tokens = [[[dictionary[key], dictionary.token2id[dictionary[key]]] for key, value in dictionary.items() if key <= 50]]\n",
    "print (dict_tokens)"
   ]
  },
  {
   "cell_type": "code",
   "execution_count": 11,
   "id": "c85a223b",
   "metadata": {},
   "outputs": [
    {
     "name": "stdout",
     "output_type": "stream",
     "text": [
      "[[('', 1), ('club', 3), ('full', 1), ('membership', 1), ('new', 1), ('on', 1), ('price', 1), ('sams', 2), ('spend', 1)], [('', 2), ('spend', 1), ('based', 1), ('beyond', 2), ('meat', 2), ('plant', 1), ('product', 1)], [('cake', 1), ('frozen', 1), ('good', 2), ('humor', 2), ('vanilla', 1), ('viennetta', 1)]]\n"
     ]
    }
   ],
   "source": [
    "corpus = [dictionary.doc2bow(desc) for desc in OFFER_df]\n",
    "\n",
    "word_frequencies = [[(dictionary[id], frequency) for id, frequency in line] for line in corpus[0:3]]\n",
    "\n",
    "print(word_frequencies)"
   ]
  },
  {
   "cell_type": "code",
   "execution_count": 12,
   "id": "812a626f",
   "metadata": {},
   "outputs": [],
   "source": [
    "OFFER_tfidf_model = gensim.models.TfidfModel(corpus, id2word=dictionary)\n",
    "OFFER_lsi_model = gensim.models.LsiModel(OFFER_tfidf_model[corpus], id2word=dictionary, num_topics=300)"
   ]
  },
  {
   "cell_type": "code",
   "execution_count": 13,
   "id": "17220e6d",
   "metadata": {},
   "outputs": [],
   "source": [
    "gensim.corpora.MmCorpus.serialize('OFFER_tfidf_model_mm', OFFER_tfidf_model[corpus])\n",
    "gensim.corpora.MmCorpus.serialize('OFFER_lsi_model_mm',OFFER_lsi_model[OFFER_tfidf_model[corpus]])"
   ]
  },
  {
   "cell_type": "code",
   "execution_count": 14,
   "id": "e6841a1e",
   "metadata": {},
   "outputs": [
    {
     "name": "stdout",
     "output_type": "stream",
     "text": [
      "MmCorpus(413 documents, 672 features, 3409 non-zero entries)\n",
      "MmCorpus(413 documents, 300 features, 119129 non-zero entries)\n"
     ]
    }
   ],
   "source": [
    "#Load the indexed corpus\n",
    "OFFER_tfidf_corpus = gensim.corpora.MmCorpus('OFFER_tfidf_model_mm')\n",
    "OFFER_lsi_corpus = gensim.corpora.MmCorpus('OFFER_lsi_model_mm')\n",
    "\n",
    "print(OFFER_tfidf_corpus)\n",
    "print(OFFER_lsi_corpus)"
   ]
  },
  {
   "cell_type": "code",
   "execution_count": 15,
   "id": "ecadff03",
   "metadata": {},
   "outputs": [],
   "source": [
    "from gensim.similarities import MatrixSimilarity\n",
    "\n",
    "OFFER_index = MatrixSimilarity(OFFER_lsi_corpus, num_features = OFFER_lsi_corpus.num_terms)"
   ]
  },
  {
   "cell_type": "code",
   "execution_count": 47,
   "id": "b3a4a4d2",
   "metadata": {},
   "outputs": [],
   "source": [
    "from operator import itemgetter\n",
    "\n",
    "def search_similar_OFFER(search_term):\n",
    "\n",
    "    query_bow = dictionary.doc2bow(spacy_tokenizer(search_term))\n",
    "    query_tfidf = OFFER_tfidf_model[query_bow]\n",
    "    query_lsi = OFFER_lsi_model[query_tfidf]\n",
    "\n",
    "    OFFER_index.num_best = 10\n",
    "\n",
    "    OFFER_list = OFFER_index[query_lsi]\n",
    "\n",
    "    OFFER_list.sort(key=itemgetter(1), reverse=True)\n",
    "    OFFER_names = []\n",
    "\n",
    "    for j, OFFER in enumerate(OFFER_list):\n",
    "\n",
    "        OFFER_names.append (\n",
    "            {\n",
    "                'Relevance': round((OFFER[1] * 100),2),\n",
    "                'OFFER': df['OFFER'][OFFER[0]],\n",
    "                'Retailer': df['RETAILER'][OFFER[0]]\n",
    "                \n",
    "            }\n",
    "\n",
    "        )\n",
    "        if j == (OFFER_index.num_best-1):\n",
    "            break\n",
    "\n",
    "    return pd.DataFrame(OFFER_names, columns=['Relevance','OFFER','Retailer'])\n"
   ]
  },
  {
   "cell_type": "code",
   "execution_count": 56,
   "id": "8c275aa6",
   "metadata": {},
   "outputs": [
    {
     "data": {
      "text/html": [
       "<div>\n",
       "<style scoped>\n",
       "    .dataframe tbody tr th:only-of-type {\n",
       "        vertical-align: middle;\n",
       "    }\n",
       "\n",
       "    .dataframe tbody tr th {\n",
       "        vertical-align: top;\n",
       "    }\n",
       "\n",
       "    .dataframe thead th {\n",
       "        text-align: right;\n",
       "    }\n",
       "</style>\n",
       "<table border=\"1\" class=\"dataframe\">\n",
       "  <thead>\n",
       "    <tr style=\"text-align: right;\">\n",
       "      <th></th>\n",
       "      <th>Relevance</th>\n",
       "      <th>OFFER</th>\n",
       "      <th>Retailer</th>\n",
       "    </tr>\n",
       "  </thead>\n",
       "  <tbody>\n",
       "    <tr>\n",
       "      <th>0</th>\n",
       "      <td>76.01</td>\n",
       "      <td>DOVE chocolate, select varieties DOVE CHOCOLATE</td>\n",
       "      <td>NaN</td>\n",
       "    </tr>\n",
       "    <tr>\n",
       "      <th>1</th>\n",
       "      <td>72.40</td>\n",
       "      <td>DOVE Chocolate, select sizes, buy 1 DOVE CHOCO...</td>\n",
       "      <td>NaN</td>\n",
       "    </tr>\n",
       "    <tr>\n",
       "      <th>2</th>\n",
       "      <td>34.09</td>\n",
       "      <td>M&amp;M'S chocolate candies, select varieties M&amp;MS...</td>\n",
       "      <td>NaN</td>\n",
       "    </tr>\n",
       "    <tr>\n",
       "      <th>3</th>\n",
       "      <td>32.41</td>\n",
       "      <td>SNICKERS chocolate candy bar, select varieties...</td>\n",
       "      <td>NaN</td>\n",
       "    </tr>\n",
       "    <tr>\n",
       "      <th>4</th>\n",
       "      <td>30.73</td>\n",
       "      <td>Reese's Chocolate Cones, 8 count at GIANT OR M...</td>\n",
       "      <td>MARTINS FOODS</td>\n",
       "    </tr>\n",
       "    <tr>\n",
       "      <th>5</th>\n",
       "      <td>28.58</td>\n",
       "      <td>Reese's Chocolate Cones, 8 count at GIANT OR M...</td>\n",
       "      <td>GIANT FOOD</td>\n",
       "    </tr>\n",
       "    <tr>\n",
       "      <th>6</th>\n",
       "      <td>0.02</td>\n",
       "      <td>ORBIT, select varieties ORBIT Gum Candy</td>\n",
       "      <td>NaN</td>\n",
       "    </tr>\n",
       "    <tr>\n",
       "      <th>7</th>\n",
       "      <td>0.01</td>\n",
       "      <td>GATORADE Fast Twitch, 12-ounce single serve, b...</td>\n",
       "      <td>FOOD4LESS</td>\n",
       "    </tr>\n",
       "    <tr>\n",
       "      <th>8</th>\n",
       "      <td>-0.01</td>\n",
       "      <td>GATORADE Fast Twitch, 12-ounce single serve, b...</td>\n",
       "      <td>FRED MEYER</td>\n",
       "    </tr>\n",
       "    <tr>\n",
       "      <th>9</th>\n",
       "      <td>-0.01</td>\n",
       "      <td>GATORADE Fast Twitch, 12-ounce single serve GA...</td>\n",
       "      <td>NaN</td>\n",
       "    </tr>\n",
       "  </tbody>\n",
       "</table>\n",
       "</div>"
      ],
      "text/plain": [
       "   Relevance                                              OFFER       Retailer\n",
       "0      76.01    DOVE chocolate, select varieties DOVE CHOCOLATE            NaN\n",
       "1      72.40  DOVE Chocolate, select sizes, buy 1 DOVE CHOCO...            NaN\n",
       "2      34.09  M&M'S chocolate candies, select varieties M&MS...            NaN\n",
       "3      32.41  SNICKERS chocolate candy bar, select varieties...            NaN\n",
       "4      30.73  Reese's Chocolate Cones, 8 count at GIANT OR M...  MARTINS FOODS\n",
       "5      28.58  Reese's Chocolate Cones, 8 count at GIANT OR M...     GIANT FOOD\n",
       "6       0.02            ORBIT, select varieties ORBIT Gum Candy            NaN\n",
       "7       0.01  GATORADE Fast Twitch, 12-ounce single serve, b...      FOOD4LESS\n",
       "8      -0.01  GATORADE Fast Twitch, 12-ounce single serve, b...     FRED MEYER\n",
       "9      -0.01  GATORADE Fast Twitch, 12-ounce single serve GA...            NaN"
      ]
     },
     "execution_count": 56,
     "metadata": {},
     "output_type": "execute_result"
    }
   ],
   "source": [
    "search_similar_OFFER('chocolates')"
   ]
  },
  {
   "cell_type": "code",
   "execution_count": null,
   "id": "3590348c",
   "metadata": {},
   "outputs": [],
   "source": []
  }
 ],
 "metadata": {
  "kernelspec": {
   "display_name": "Python 3 (ipykernel)",
   "language": "python",
   "name": "python3"
  },
  "language_info": {
   "codemirror_mode": {
    "name": "ipython",
    "version": 3
   },
   "file_extension": ".py",
   "mimetype": "text/x-python",
   "name": "python",
   "nbconvert_exporter": "python",
   "pygments_lexer": "ipython3",
   "version": "3.11.3"
  }
 },
 "nbformat": 4,
 "nbformat_minor": 5
}
